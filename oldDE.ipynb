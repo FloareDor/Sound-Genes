{
 "cells": [
  {
   "cell_type": "markdown",
   "metadata": {},
   "source": [
    "Imports"
   ]
  },
  {
   "cell_type": "code",
   "execution_count": 1,
   "metadata": {},
   "outputs": [],
   "source": [
    "import numpy as np\n",
    "# This is exclusively used in the test fitness function I have created\n",
    "# Will be eliminated from the final code\n",
    "\n",
    "import random as rd\n",
    "# This is used to initiate the first generation at random positions\n",
    "\n",
    "from matplotlib import pyplot as plt\n",
    "# This is used to plot and visualise the code\n",
    "# Will be eliminated from the final code\n",
    "\n",
    "import copy\n",
    "# This is a crucial library used to create true copies of the genes for creating\n",
    "    # the mutant vector and the trial vector"
   ]
  },
  {
   "cell_type": "markdown",
   "metadata": {},
   "source": [
    "Hyper Parameters"
   ]
  },
  {
   "cell_type": "code",
   "execution_count": 2,
   "metadata": {},
   "outputs": [],
   "source": [
    "A=10\n",
    "# Amplitude\n",
    "# This is the maximum amplitude or loudness\n",
    "\n",
    "Cp=0.8\n",
    "# Crossover Probability\n",
    "# This is the amount of crossover between the original vector and the mutant\n",
    "    # vector used to create the trial vector\n",
    "\n",
    "K=0.8\n",
    "# Coefficient used to generate the mutant vector\n",
    "\n",
    "Fr=[1]\n",
    "# Coefficient used to generate the mutant vector\n",
    "\n",
    "Ps= 100\n",
    "# Population Size\n",
    "\n",
    "Gs= 500\n",
    "# Generation Size\n",
    "\n",
    "Cl=3\n",
    "# Chromosome Length\n",
    "# This is the number of Time Frames in a single song\n",
    "# It is set at 3 for the fitness function provided to work\n",
    "\n",
    "Gl=2\n",
    "# Gene Length\n",
    "# This is the number of frequency Bins in a single Time Frame\n",
    "# It is set at 2 for the fitness function provided to work\n",
    "\n",
    "fitness=[]\n",
    "# Best Fitness List\n",
    "# This is a list of the best fitness in every generation for plotting purposes\n",
    "# Will be eliminated from the final code"
   ]
  },
  {
   "cell_type": "markdown",
   "metadata": {},
   "source": [
    "Test Fitness Function"
   ]
  },
  {
   "cell_type": "code",
   "execution_count": 3,
   "metadata": {},
   "outputs": [],
   "source": [
    "T=[]\n",
    "\n",
    "for i in range(Cl):\n",
    "    T.append([])\n",
    "    \n",
    "    for j in range(Gl):\n",
    "        T[i].append([rd.uniform(0,A), rd.uniform(0,360)])\n",
    "\n",
    "# Test Chromosome\n",
    "# Let us assume that this chromosome is the perfect song\n",
    "# The goal of our algorithm then is to achieve the closest chromosome that\n",
    "    # replicates this"
   ]
  },
  {
   "cell_type": "code",
   "execution_count": 4,
   "metadata": {},
   "outputs": [],
   "source": [
    "def ff(L):\n",
    "# Fitness Function\n",
    "# This must be minimised in the given situation\n",
    "\n",
    "    E=0\n",
    "    # Error\n",
    "    # This will be used to evaluate the fitness of a chromosome\n",
    "\n",
    "    for j in range(Cl):\n",
    "        for k in range(Gl):\n",
    "            for l in range(2):\n",
    "                E= E + np.abs(L[j][k][l]-T[j][k][l])\n",
    "\n",
    "    # The error is the manhattan distance of a chromosome from chromosome T\n",
    "    # Hence the algorithm must minimise this error\n",
    "\n",
    "    return E"
   ]
  },
  {
   "cell_type": "markdown",
   "metadata": {},
   "source": [
    "Initial Population"
   ]
  },
  {
   "cell_type": "code",
   "execution_count": 5,
   "metadata": {},
   "outputs": [],
   "source": [
    "def chrm():\n",
    "# Random Chromosome Generator\n",
    "# Creates a random chromosome with the permissible boundary values\n",
    "\n",
    "    L=[]\n",
    "\n",
    "    for i in range(Cl):\n",
    "        L.append([])\n",
    "        \n",
    "        for j in range(Gl):\n",
    "            L[i].append([rd.uniform(0,A), rd.uniform(0,360)])\n",
    "    \n",
    "    return L"
   ]
  },
  {
   "cell_type": "code",
   "execution_count": 6,
   "metadata": {},
   "outputs": [],
   "source": [
    "def popinit(Ps):\n",
    "# Population Initiator\n",
    "# Creates an initial population pool\n",
    "\n",
    "# Ps is the Population Size\n",
    "    \n",
    "    Pop={}\n",
    "    # Population Dictionary\n",
    "    # Pop is a dictionary mapping integers to a unique Chromosome\n",
    "    # Initiate it as an empty dictionary\n",
    "\n",
    "    for i in range(Ps):\n",
    "        Pop[i]=chrm()\n",
    "    \n",
    "    # Every element in Pop is a Chromosome indexed from an integer from 0 to Ps\n",
    "\n",
    "    return Pop"
   ]
  },
  {
   "cell_type": "markdown",
   "metadata": {},
   "source": [
    "Vector Generators"
   ]
  },
  {
   "cell_type": "code",
   "execution_count": 7,
   "metadata": {},
   "outputs": [],
   "source": [
    "def mutvec(i, Ps, Pop):\n",
    "# Mutant Vector Generator\n",
    "# Creates a Mutant Vector for the provided population member\n",
    "\n",
    "# i is the index of the chromosome whose mutant vector is being created\n",
    "# Ps is the Population size\n",
    "# Pop is the Population Dictionary\n",
    "\n",
    "    Mut=chrm()\n",
    "    # Mutant Vector\n",
    "    # Mut is the Mutant Vector of population member index i\n",
    "    # Initiate it as a random chromosome\n",
    "\n",
    "    F=rd.uniform(-Fr[0],Fr[0])\n",
    "    # Coefficient used to generate the mutant vector\n",
    "\n",
    "    while(1):\n",
    "        \n",
    "        x,y,z= rd.sample(range(Ps),3)\n",
    "\n",
    "        if(x!=i and y!=i and z!=i):\n",
    "            break\n",
    "        \n",
    "    # The above are used to choose population vectors to mutate the original \n",
    "        # vector with\n",
    "    \n",
    "    for j in range(Cl):\n",
    "        for k in range(Gl):\n",
    "            for l in range(2):\n",
    "                Mut[j][k][l]= Pop[i][j][k][l]+K*(Pop[x][j][k][l]-Pop[i][j][k][l])+F*(Pop[y][j][k][l]-Pop[z][j][k][l])\n",
    "\n",
    "                # The above is a direct formula used to create mutant vectors in DE\n",
    "\n",
    "    # Mut is now the Mutant Vector of population member L\n",
    "\n",
    "    return Mut"
   ]
  },
  {
   "cell_type": "code",
   "execution_count": 8,
   "metadata": {},
   "outputs": [],
   "source": [
    "def trivec(L, Mut):\n",
    "# Trial Vector Generator\n",
    "# Creates a Trial Vector for the population member with it's mutant\n",
    "\n",
    "# L is the chromosome of the population member whose trial vector is being created\n",
    "# Mut is the population member's corresponding Mutant Vector\n",
    "\n",
    "    Tri=copy.deepcopy(Mut)\n",
    "    # Trial Vector\n",
    "    # Tri is the Trial Vector of the population member L\n",
    "    # Initiate it to be the Mutant Vector\n",
    "\n",
    "    for j in range(Cl):\n",
    "        for k in range(Gl):\n",
    "            for l in range(2):\n",
    "                if (rd.uniform(0,1)>Cp):\n",
    "                    Tri[j][k][l]= L[j][k][l]\n",
    "                \n",
    "                # Here as the Tri is the same as Mut initially, elements of Tri\n",
    "                    # are restored to the value of L with a probability of 1-Cp\n",
    "\n",
    "    # Tri is now the Trial Vector of the population member L\n",
    "\n",
    "    return Tri"
   ]
  },
  {
   "cell_type": "markdown",
   "metadata": {},
   "source": [
    "Best Fitness Member"
   ]
  },
  {
   "cell_type": "code",
   "execution_count": 9,
   "metadata": {},
   "outputs": [],
   "source": [
    "def fittest(Ps, Pop):\n",
    "# Fittest Population Member Evaluator\n",
    "# Finds the Population Member with the Greatest Fitness and that Fitness\n",
    "\n",
    "# Ps is the Population size\n",
    "# Pop is the Population Dictionary\n",
    "    \n",
    "    Bf=10000000\n",
    "    # Best Fitness\n",
    "    # This the Best Fitness found\n",
    "    # Initially it is set to an arbitrarily high number for minimization\n",
    "\n",
    "    L=Pop[0]\n",
    "    # This is the chromosome with the highest fitness\n",
    "    # Initially it is the first chromosome\n",
    "\n",
    "    for i in range(Ps):\n",
    "        if ff(Pop[i])<Bf:\n",
    "            Bf=ff(Pop[i])\n",
    "            L=Pop[i]\n",
    "        \n",
    "        # Simply keep track of the lowest error among the population members\n",
    "            \n",
    "    # Bf is now the best fitness and L is the corresponding population member\n",
    "\n",
    "    return [L,Bf]"
   ]
  },
  {
   "cell_type": "markdown",
   "metadata": {},
   "source": [
    "Generation Iterator/Differential Evolution"
   ]
  },
  {
   "cell_type": "code",
   "execution_count": 10,
   "metadata": {},
   "outputs": [],
   "source": [
    "def geniter(Ps, Gs, Pop):\n",
    "# Generation Iterator\n",
    "# Iterates over the entire population and creates every generation of members\n",
    "\n",
    "# Ps is the Population Size\n",
    "# Gs is the Generation Size\n",
    "# Pop is the Population Dictionary\n",
    "\n",
    "    while Gs>0:\n",
    "        Gs=Gs-1\n",
    "    # Run the while loop Gs times\n",
    "    # This imitates Gs Generations of Evolution\n",
    "\n",
    "        #Fr[0]=Fr[0]/1.01\n",
    "\n",
    "        for i in range(Ps):\n",
    "        # For every population member\n",
    "\n",
    "            Mut= mutvec(i, Ps, Pop)\n",
    "            # Generate and store the Mutant Vector\n",
    "\n",
    "            Tri= trivec(Pop[i], Mut)\n",
    "            # Use the Mutant Vector to create the Trial Vector\n",
    "\n",
    "            for j in range(Cl):\n",
    "                for k in range(Gl):\n",
    "\n",
    "                    if (Tri[j][k][0]>A or Tri[j][k][0]<0):\n",
    "\n",
    "                        Tri[j][k][0]=Pop[i][j][k][0]\n",
    "                        \n",
    "                    if (Tri[j][k][1]>360 or Tri[j][k][1]<0):\n",
    "\n",
    "                        Tri[j][k][1]=Pop[i][j][k][1]\n",
    "\n",
    "                    # If a component of the Trial Vector is Violating a constraint, replace\n",
    "                        # that component with that of the population member\n",
    "                        \n",
    "            if(ff(Tri)<ff(Pop[i])):\n",
    "                Pop[i]=Tri\n",
    "\n",
    "            # If the Trial Vector is fitter than the population member, replace\n",
    "                # the population member with the trial vector for the next \n",
    "                # generation, else do nothing\n",
    "        \n",
    "        fitness.append(fittest(Ps, Pop)[1])\n",
    "        # Append the highest fitness population member of each generation for\n",
    "            # plotting purposes\n",
    "        # Will be eliminated from the final code\n",
    "\n",
    "    return Pop"
   ]
  },
  {
   "cell_type": "markdown",
   "metadata": {},
   "source": [
    "Main"
   ]
  },
  {
   "cell_type": "code",
   "execution_count": 11,
   "metadata": {},
   "outputs": [
    {
     "name": "stdout",
     "output_type": "stream",
     "text": [
      "0.0\n"
     ]
    },
    {
     "data": {
      "text/plain": [
       "[<matplotlib.lines.Line2D at 0x23e8e4e0090>]"
      ]
     },
     "execution_count": 11,
     "metadata": {},
     "output_type": "execute_result"
    },
    {
     "data": {
      "image/png": "[encoded data removed]",
      "text/plain": [
       "<Figure size 640x480 with 1 Axes>"
      ]
     },
     "metadata": {},
     "output_type": "display_data"
    }
   ],
   "source": [
    "Pop= popinit(Ps)\n",
    "# Initiate and store the Population Dictionary\n",
    "\n",
    "Pop= geniter(Ps, Gs, Pop)\n",
    "# Iterate the population through Evolution and store the final state\n",
    "\n",
    "print(fittest(Ps, Pop)[1])\n",
    "# Print the error between the Test chromosome and the Final chromosome\n",
    "\n",
    "plt.plot(range(0, Gs), fitness)\n",
    "# Plot the Fitness Vs Generation Curve for Evaluation"
   ]
  },
  {
   "cell_type": "code",
   "execution_count": 12,
   "metadata": {},
   "outputs": [
    {
     "data": {
      "text/plain": [
       "[[[0.0, 0.0], [0.0, 0.0]], [[0.0, 0.0], [0.0, 0.0]], [[0.0, 0.0], [0.0, 0.0]]]"
      ]
     },
     "execution_count": 12,
     "metadata": {},
     "output_type": "execute_result"
    }
   ],
   "source": [
    "L=fittest(Ps,Pop)[0]\n",
    "\n",
    "Jk=chrm()\n",
    "\n",
    "for j in range(Cl):\n",
    "        for k in range(Gl):\n",
    "            for l in range(2):\n",
    "                Jk[j][k][l]= np.abs(L[j][k][l]-T[j][k][l])\n",
    "\n",
    "Jk"
   ]
  },
  {
   "cell_type": "markdown",
   "metadata": {},
   "source": [
    "Test cases:\n",
    "\n",
    "Ps,Gs,Cl,Gl -> E,Time\n",
    "\n",
    "K=0.7\n",
    "F=(-2,2)\n",
    "\n",
    "a) 100,100,3,2 -> 1.7, 1.5\n",
    "\n",
    "b) 100,100,30,20 -> 46000, 1:20\n",
    "\n",
    "c) 20,100,30,20 -> 49000, 17\n",
    "\n",
    "d) 20,200,30,20 -> 44000, 31\n",
    "\n",
    "e) 20,500,30,20 -> 38000, 1:15\n",
    "\n",
    "f) 40,200,30,20 -> 42000, 1:03\n",
    "\n",
    "g) 10,200,30,20 -> 49000, 16\n",
    "\n",
    "h) 10,1000,30,20 -> 42000, 1:11\n",
    "\n",
    "i) 20,1000,30,20 -> 34000, 2:29\n",
    "\n",
    "\n",
    "j) 10,10,300,50 -> 1555K, 23\n",
    "\n",
    "k) 20,10,300,50 -> 1472K, 48\n",
    "\n",
    "k) 20,50,300,50 -> 1441K, 4:00\n",
    "\n",
    "l) 30,10,300,50 -> 1511K, 1:12\n",
    "\n",
    "K=0.8\n",
    "F=(-1,1)\n",
    "\n",
    "a) 10,10,300,50 -> 1522K, 38\n",
    "\n",
    "b) 20,50,300,50 -> 1476K, 5:41"
   ]
  }
 ],
 "metadata": {
  "kernelspec": {
   "display_name": "Python 3",
   "language": "python",
   "name": "python3"
  },
  "language_info": {
   "codemirror_mode": {
    "name": "ipython",
    "version": 3
   },
   "file_extension": ".py",
   "mimetype": "text/x-python",
   "name": "python",
   "nbconvert_exporter": "python",
   "pygments_lexer": "ipython3",
   "version": "3.11.4"
  },
  "orig_nbformat": 4
 },
 "nbformat": 4,
 "nbformat_minor": 2
}
