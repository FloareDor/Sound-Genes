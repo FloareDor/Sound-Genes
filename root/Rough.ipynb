{
 "cells": [
  {
   "cell_type": "code",
   "execution_count": 6,
   "metadata": {},
   "outputs": [],
   "source": [
    "import random as rd"
   ]
  },
  {
   "cell_type": "code",
   "execution_count": 7,
   "metadata": {},
   "outputs": [],
   "source": [
    "Cl=300\n",
    "Gl=50\n",
    "wavpbin=160\n",
    "Samplingrate=round(16000/0.2)\n",
    "minfrq=0\n",
    "maxfrq=8000"
   ]
  },
  {
   "cell_type": "code",
   "execution_count": 8,
   "metadata": {},
   "outputs": [],
   "source": [
    "def Q(L):\n",
    "    \n",
    "    sum=0\n",
    "\n",
    "    for j in range(Cl):\n",
    "        for k in range(Gl-1):\n",
    "\n",
    "            sum+= abs(L[j][k][0]-L[j][k+1][0])\n",
    "\n",
    "        if j!=Cl-1:\n",
    "            sum+=abs(L[j][Gl-1][0]-L[j+1][0][0])\n",
    "\n",
    "    return sum"
   ]
  },
  {
   "cell_type": "code",
   "execution_count": 9,
   "metadata": {},
   "outputs": [],
   "source": [
    "L=[]\n",
    "\n",
    "for i in range(Cl):\n",
    "    L.append([])\n",
    "        \n",
    "    for j in range(Gl):\n",
    "        L[i].append([rd.uniform(0,10), rd.uniform(0, 6.282)])"
   ]
  },
  {
   "cell_type": "code",
   "execution_count": 10,
   "metadata": {},
   "outputs": [
    {
     "name": "stdout",
     "output_type": "stream",
     "text": [
      "49942.73723523101\n"
     ]
    }
   ],
   "source": [
    "print(Q(L))"
   ]
  },
  {
   "cell_type": "code",
   "execution_count": null,
   "metadata": {},
   "outputs": [],
   "source": []
  }
 ],
 "metadata": {
  "kernelspec": {
   "display_name": "Python 3",
   "language": "python",
   "name": "python3"
  },
  "language_info": {
   "codemirror_mode": {
    "name": "ipython",
    "version": 3
   },
   "file_extension": ".py",
   "mimetype": "text/x-python",
   "name": "python",
   "nbconvert_exporter": "python",
   "pygments_lexer": "ipython3",
   "version": "3.11.4"
  }
 },
 "nbformat": 4,
 "nbformat_minor": 2
}
