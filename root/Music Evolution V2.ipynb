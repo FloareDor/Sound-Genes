{
 "cells": [
  {
   "cell_type": "markdown",
   "metadata": {},
   "source": [
    "Imports"
   ]
  },
  {
   "cell_type": "code",
   "execution_count": 1,
   "metadata": {},
   "outputs": [],
   "source": [
    "import numpy as np\n",
    "# This is exclusively used in the test fitness function I have created\n",
    "# Will be eliminated from the final code\n",
    "\n",
    "import random as rd\n",
    "# This is used to initiate the first generation at random positions\n",
    "\n",
    "from matplotlib import pyplot as plt\n",
    "# This is used to plot and visualise the code\n",
    "# Will be eliminated from the final code\n",
    "\n",
    "import copy\n",
    "# This is a crucial library used to create true copies of the genes for creating\n",
    "    # the mutant vector and the trial vector\n",
    "\n",
    "from chromosome_processor import decode, enlarge_chromosome, generate_chromosome, generate_full_chromosome\n",
    "\n",
    "from driver import main\n",
    "\n",
    "import time\n",
    "\n",
    "import wave"
   ]
  },
  {
   "cell_type": "markdown",
   "metadata": {},
   "source": [
    "Hyper Parameters"
   ]
  },
  {
   "cell_type": "code",
   "execution_count": 2,
   "metadata": {},
   "outputs": [],
   "source": [
    "A=1\n",
    "# Amplitude\n",
    "# This is the maximum amplitude or loudness\n",
    "\n",
    "Cp=0.8\n",
    "# Crossover Probability\n",
    "# This is the amount of crossover between the original vector and the mutant\n",
    "    # vector used to create the trial vector\n",
    "\n",
    "K=0.8\n",
    "# Coefficient used to generate the mutant vector\n",
    "\n",
    "Fr=[1]\n",
    "# Coefficient used to generate the mutant vector\n",
    "\n",
    "Ps= 100\n",
    "# Population Size\n",
    "\n",
    "Gs= 500\n",
    "# Generation Size\n",
    "\n",
    "Cl=300\n",
    "# Chromosome Length\n",
    "# This is the number of Time Frames in a single song\n",
    "# It is set at 3 for the fitness function provided to work\n",
    "\n",
    "Gl=50\n",
    "# Gene Length\n",
    "# This is the number of frequency Bins in a single Time Frame\n",
    "# It is set at 2 for the fitness function provided to work\n",
    "\n",
    "fitness=[]\n",
    "# Best Fitness List\n",
    "# This is a list of the best fitness in every generation for plotting purposes\n",
    "# Will be eliminated from the final code"
   ]
  },
  {
   "cell_type": "markdown",
   "metadata": {},
   "source": [
    "Test Fitness Function"
   ]
  },
  {
   "cell_type": "code",
   "execution_count": 3,
   "metadata": {},
   "outputs": [],
   "source": [
    "T=[]\n",
    "\n",
    "for i in range(Cl):\n",
    "    T.append([])\n",
    "    \n",
    "    for j in range(Gl):\n",
    "        T[i].append([rd.uniform(0,A), rd.uniform(0,360)])\n",
    "\n",
    "# Test Chromosome\n",
    "# Let us assume that this chromosome is the perfect song\n",
    "# The goal of our algorithm then is to achieve the closest chromosome that\n",
    "    # replicates this"
   ]
  },
  {
   "cell_type": "code",
   "execution_count": 4,
   "metadata": {},
   "outputs": [],
   "source": [
    "def ff(L):\n",
    "# Fitness Function\n",
    "# This must be minimised in the given situation\n",
    "\n",
    "    E=0\n",
    "    # Error\n",
    "    # This will be used to evaluate the fitness of a chromosome\n",
    "\n",
    "    for j in range(Cl):\n",
    "        for k in range(Gl):\n",
    "            for l in range(2):\n",
    "                E= E + np.abs(L[j][k][l]-T[j][k][l])\n",
    "\n",
    "    # The error is the manhattan distance of a chromosome from chromosome T\n",
    "    # Hence the algorithm must minimise this error\n",
    "\n",
    "    return E\n",
    "\n",
    "def fitnessFunction(chromosome, index, rasaNumber=1):\n",
    "    rasas = ['Karuna', 'Shanta', 'Shringar', 'Veera']\n",
    "    decode(chromosome, f\"test_data/{index}.wav\")\n",
    "    values = dict(main(rasaNumber=rasaNumber, audioFile=f\"{index}.wav\"))\n",
    "    fitnessValue = values[\"fitnessValues\"][rasas[rasaNumber-1]][\"weightedSum\"]\n",
    "    return fitnessValue\n",
    "    "
   ]
  },
  {
   "cell_type": "markdown",
   "metadata": {},
   "source": [
    "Initial Population"
   ]
  },
  {
   "cell_type": "code",
   "execution_count": 5,
   "metadata": {},
   "outputs": [],
   "source": [
    "def chrm():\n",
    "# Random Chromosome Generator\n",
    "# Creates a random chromosome with the permissible boundary values\n",
    "\n",
    "    L=[]\n",
    "\n",
    "    for i in range(Cl):\n",
    "        L.append([])\n",
    "        \n",
    "        for j in range(Gl):\n",
    "            L[i].append([rd.uniform(0,A), rd.uniform(0,360)])\n",
    "    \n",
    "    return L\n",
    "# decode(chrm(), \"3.wav\")"
   ]
  },
  {
   "cell_type": "code",
   "execution_count": 6,
   "metadata": {},
   "outputs": [],
   "source": [
    "def popinit(Ps):\n",
    "# Population Initiator\n",
    "# Creates an initial population pool\n",
    "\n",
    "# Ps is the Population Size\n",
    "    \n",
    "    Pop={}\n",
    "    # Population Dictionary\n",
    "    # Pop is a dictionary mapping integers to a unique Chromosome\n",
    "    # Initiate it as an empty dictionary\n",
    "\n",
    "    for i in range(Ps):\n",
    "        Pop[i]=chrm()\n",
    "    \n",
    "    # Every element in Pop is a Chromosome indexed from an integer from 0 to Ps\n",
    "\n",
    "    return Pop"
   ]
  },
  {
   "cell_type": "markdown",
   "metadata": {},
   "source": [
    "Vector Generators"
   ]
  },
  {
   "cell_type": "code",
   "execution_count": 7,
   "metadata": {},
   "outputs": [],
   "source": [
    "def mutvec(i, Ps, Pop):\n",
    "# Mutant Vector Generator\n",
    "# Creates a Mutant Vector for the provided population member\n",
    "\n",
    "# i is the index of the chromosome whose mutant vector is being created\n",
    "# Ps is the Population size\n",
    "# Pop is the Population Dictionary\n",
    "\n",
    "    Mut=chrm()\n",
    "    # Mutant Vector\n",
    "    # Mut is the Mutant Vector of population member index i\n",
    "    # Initiate it as a random chromosome\n",
    "\n",
    "    F=rd.uniform(-Fr[0],Fr[0])\n",
    "    # Coefficient used to generate the mutant vector\n",
    "\n",
    "    while(1):\n",
    "        \n",
    "        x,y,z= rd.sample(range(Ps),3)\n",
    "\n",
    "        if(x!=i and y!=i and z!=i):\n",
    "            break\n",
    "        \n",
    "    # The above are used to choose population vectors to mutate the original \n",
    "        # vector with\n",
    "    \n",
    "    for j in range(Cl):\n",
    "        for k in range(Gl):\n",
    "            for l in range(2):\n",
    "                Mut[j][k][l]= Pop[i][j][k][l]+K*(Pop[x][j][k][l]-Pop[i][j][k][l])+F*(Pop[y][j][k][l]-Pop[z][j][k][l])\n",
    "\n",
    "                # The above is a direct formula used to create mutant vectors in DE\n",
    "\n",
    "    # Mut is now the Mutant Vector of population member L\n",
    "\n",
    "    return Mut"
   ]
  },
  {
   "cell_type": "code",
   "execution_count": 8,
   "metadata": {},
   "outputs": [],
   "source": [
    "def trivec(L, Mut):\n",
    "# Trial Vector Generator\n",
    "# Creates a Trial Vector for the population member with it's mutant\n",
    "\n",
    "# L is the chromosome of the population member whose trial vector is being created\n",
    "# Mut is the population member's corresponding Mutant Vector\n",
    "\n",
    "    Tri=copy.deepcopy(Mut)\n",
    "    # Trial Vector\n",
    "    # Tri is the Trial Vector of the population member L\n",
    "    # Initiate it to be the Mutant Vector\n",
    "\n",
    "    for j in range(Cl):\n",
    "        for k in range(Gl):\n",
    "            for l in range(2):\n",
    "                if (rd.uniform(0,1)>Cp):\n",
    "                    Tri[j][k][l]= L[j][k][l]\n",
    "                \n",
    "                # Here as the Tri is the same as Mut initially, elements of Tri\n",
    "                    # are restored to the value of L with a probability of 1-Cp\n",
    "\n",
    "    # Tri is now the Trial Vector of the population member L\n",
    "\n",
    "    return Tri"
   ]
  },
  {
   "cell_type": "markdown",
   "metadata": {},
   "source": [
    "Best Fitness Member"
   ]
  },
  {
   "cell_type": "code",
   "execution_count": 9,
   "metadata": {},
   "outputs": [],
   "source": [
    "def fittest(Ps, Pop):\n",
    "# Fittest Population Member Evaluator\n",
    "# Finds the Population Member with the Greatest Fitness and that Fitness\n",
    "\n",
    "# Ps is the Population size\n",
    "# Pop is the Population Dictionary\n",
    "    \n",
    "    Bf=10000000\n",
    "    # Best Fitness\n",
    "    # This the Best Fitness found\n",
    "    # Initially it is set to an arbitrarily high number for minimization\n",
    "\n",
    "    L=Pop[0]\n",
    "    # This is the chromosome with the highest fitness\n",
    "    # Initially it is the first chromosome\n",
    "\n",
    "    for i in range(Ps):\n",
    "        fitnessValue = fitnessFunction(Pop[i], i, rasaNumber=2)\n",
    "        if fitnessValue<Bf:\n",
    "            Bf=fitnessValue\n",
    "            L=Pop[i]\n",
    "        \n",
    "        # Simply keep track of the lowest error among the population members\n",
    "            \n",
    "    # Bf is now the best fitness and L is the corresponding population member\n",
    "\n",
    "    return [L,Bf]"
   ]
  },
  {
   "cell_type": "markdown",
   "metadata": {},
   "source": [
    "Generation Iterator/Differential Evolution"
   ]
  },
  {
   "cell_type": "code",
   "execution_count": 10,
   "metadata": {},
   "outputs": [],
   "source": [
    "def geniter(Ps, Gs, Pop):\n",
    "# Generation Iterator\n",
    "# Iterates over the entire population and creates every generation of members\n",
    "\n",
    "# Ps is the Population Size\n",
    "# Gs is the Generation Size\n",
    "# Pop is the Population Dictionary\n",
    "\n",
    "    while Gs>0:\n",
    "        Gs=Gs-1\n",
    "    # Run the while loop Gs times\n",
    "    # This imitates Gs Generations of Evolution\n",
    "\n",
    "        #Fr[0]=Fr[0]/1.01\n",
    "\n",
    "        for i in range(Ps):\n",
    "        # For every population member\n",
    "\n",
    "            Mut= mutvec(i, Ps, Pop)\n",
    "            # Generate and store the Mutant Vector\n",
    "\n",
    "            Tri= trivec(Pop[i], Mut)\n",
    "            # Use the Mutant Vector to create the Trial Vector\n",
    "\n",
    "            for j in range(Cl):\n",
    "                for k in range(Gl):\n",
    "\n",
    "                    if (Tri[j][k][0]>A or Tri[j][k][0]<0):\n",
    "\n",
    "                        Tri[j][k][0]=Pop[i][j][k][0]\n",
    "                        \n",
    "                    if (Tri[j][k][1]>360 or Tri[j][k][1]<0):\n",
    "\n",
    "                        Tri[j][k][1]=Pop[i][j][k][1]\n",
    "\n",
    "                    # If a component of the Trial Vector is Violating a constraint, replace\n",
    "                        # that component with that of the population member\n",
    "                        \n",
    "            if(ff(Tri)<ff(Pop[i])):\n",
    "                Pop[i]=Tri\n",
    "\n",
    "            # If the Trial Vector is fitter than the population member, replace\n",
    "                # the population member with the trial vector for the next \n",
    "                # generation, else do nothing\n",
    "        \n",
    "        fitness.append(fittest(Ps, Pop)[1])\n",
    "        # Append the highest fitness population member of each generation for\n",
    "            # plotting purposes\n",
    "        # Will be eliminated from the final code\n",
    "\n",
    "    return Pop"
   ]
  },
  {
   "cell_type": "markdown",
   "metadata": {},
   "source": [
    "Main"
   ]
  },
  {
   "cell_type": "code",
   "execution_count": 11,
   "metadata": {},
   "outputs": [
    {
     "name": "stderr",
     "output_type": "stream",
     "text": [
      "Converting each frame to audio: 100%|██████████| 100/100 [00:09<00:00, 10.71it/s]\n"
     ]
    },
    {
     "name": "stdout",
     "output_type": "stream",
     "text": [
      "(882000,)\n",
      "(100, 50, 20, 3)\n",
      "Decoding completed!\n",
      "The Decoding Execution Time is : 9.366569757461548 s\n",
      "Java command executed successfully\n",
      "Current path: e:\\RESEARCH\\generate-music\\Sound-Genes\\root\n",
      "Data extracted and saved to 0_all_features.json\n",
      "The Fitness Function Execution Time is : 1.0892431735992432 s\n",
      "Results saved to 0_10_features.json\n"
     ]
    },
    {
     "name": "stderr",
     "output_type": "stream",
     "text": [
      "Converting each frame to audio: 100%|██████████| 100/100 [00:09<00:00, 10.73it/s]\n"
     ]
    },
    {
     "name": "stdout",
     "output_type": "stream",
     "text": [
      "(882000,)\n",
      "(100, 50, 20, 3)\n",
      "Decoding completed!\n",
      "The Decoding Execution Time is : 9.352364301681519 s\n",
      "Java command executed successfully\n",
      "Current path: e:\\RESEARCH\\generate-music\\Sound-Genes\\root\n",
      "Data extracted and saved to 1_all_features.json\n",
      "The Fitness Function Execution Time is : 1.095095157623291 s\n",
      "Results saved to 1_10_features.json\n"
     ]
    },
    {
     "name": "stderr",
     "output_type": "stream",
     "text": [
      "Converting each frame to audio: 100%|██████████| 100/100 [00:09<00:00, 10.72it/s]\n"
     ]
    },
    {
     "name": "stdout",
     "output_type": "stream",
     "text": [
      "(882000,)\n",
      "(100, 50, 20, 3)\n",
      "Decoding completed!\n",
      "The Decoding Execution Time is : 9.355164527893066 s\n",
      "Java command executed successfully\n",
      "Current path: e:\\RESEARCH\\generate-music\\Sound-Genes\\root\n",
      "Data extracted and saved to 2_all_features.json\n",
      "The Fitness Function Execution Time is : 1.1051397323608398 s\n",
      "Results saved to 2_10_features.json\n"
     ]
    },
    {
     "name": "stderr",
     "output_type": "stream",
     "text": [
      "Converting each frame to audio:  29%|██▉       | 29/100 [00:02<00:06, 10.72it/s]\n"
     ]
    },
    {
     "ename": "KeyboardInterrupt",
     "evalue": "",
     "output_type": "error",
     "traceback": [
      "\u001b[1;31m---------------------------------------------------------------------------\u001b[0m",
      "\u001b[1;31mKeyboardInterrupt\u001b[0m                         Traceback (most recent call last)",
      "\u001b[1;32me:\\RESEARCH\\generate-music\\Sound-Genes\\root\\Music Evolution V2.ipynb Cell 19\u001b[0m line \u001b[0;36m4\n\u001b[0;32m      <a href='vscode-notebook-cell:/e%3A/RESEARCH/generate-music/Sound-Genes/root/Music%20Evolution%20V2.ipynb#X24sZmlsZQ%3D%3D?line=0'>1</a>\u001b[0m Pop\u001b[39m=\u001b[39m popinit(Ps)\n\u001b[0;32m      <a href='vscode-notebook-cell:/e%3A/RESEARCH/generate-music/Sound-Genes/root/Music%20Evolution%20V2.ipynb#X24sZmlsZQ%3D%3D?line=1'>2</a>\u001b[0m \u001b[39m# Initiate and store the Population Dictionary\u001b[39;00m\n\u001b[1;32m----> <a href='vscode-notebook-cell:/e%3A/RESEARCH/generate-music/Sound-Genes/root/Music%20Evolution%20V2.ipynb#X24sZmlsZQ%3D%3D?line=3'>4</a>\u001b[0m Pop\u001b[39m=\u001b[39m geniter(Ps, Gs, Pop)\n\u001b[0;32m      <a href='vscode-notebook-cell:/e%3A/RESEARCH/generate-music/Sound-Genes/root/Music%20Evolution%20V2.ipynb#X24sZmlsZQ%3D%3D?line=4'>5</a>\u001b[0m \u001b[39m# Iterate the population through Evolution and store the final state\u001b[39;00m\n\u001b[0;32m      <a href='vscode-notebook-cell:/e%3A/RESEARCH/generate-music/Sound-Genes/root/Music%20Evolution%20V2.ipynb#X24sZmlsZQ%3D%3D?line=6'>7</a>\u001b[0m \u001b[39mprint\u001b[39m(fittest(Ps, Pop)[\u001b[39m1\u001b[39m])\n",
      "\u001b[1;32me:\\RESEARCH\\generate-music\\Sound-Genes\\root\\Music Evolution V2.ipynb Cell 19\u001b[0m line \u001b[0;36m4\n\u001b[0;32m     <a href='vscode-notebook-cell:/e%3A/RESEARCH/generate-music/Sound-Genes/root/Music%20Evolution%20V2.ipynb#X24sZmlsZQ%3D%3D?line=39'>40</a>\u001b[0m             Pop[i]\u001b[39m=\u001b[39mTri\n\u001b[0;32m     <a href='vscode-notebook-cell:/e%3A/RESEARCH/generate-music/Sound-Genes/root/Music%20Evolution%20V2.ipynb#X24sZmlsZQ%3D%3D?line=41'>42</a>\u001b[0m         \u001b[39m# If the Trial Vector is fitter than the population member, replace\u001b[39;00m\n\u001b[0;32m     <a href='vscode-notebook-cell:/e%3A/RESEARCH/generate-music/Sound-Genes/root/Music%20Evolution%20V2.ipynb#X24sZmlsZQ%3D%3D?line=42'>43</a>\u001b[0m             \u001b[39m# the population member with the trial vector for the next \u001b[39;00m\n\u001b[0;32m     <a href='vscode-notebook-cell:/e%3A/RESEARCH/generate-music/Sound-Genes/root/Music%20Evolution%20V2.ipynb#X24sZmlsZQ%3D%3D?line=43'>44</a>\u001b[0m             \u001b[39m# generation, else do nothing\u001b[39;00m\n\u001b[1;32m---> <a href='vscode-notebook-cell:/e%3A/RESEARCH/generate-music/Sound-Genes/root/Music%20Evolution%20V2.ipynb#X24sZmlsZQ%3D%3D?line=45'>46</a>\u001b[0m     fitness\u001b[39m.\u001b[39mappend(fittest(Ps, Pop)[\u001b[39m1\u001b[39m])\n\u001b[0;32m     <a href='vscode-notebook-cell:/e%3A/RESEARCH/generate-music/Sound-Genes/root/Music%20Evolution%20V2.ipynb#X24sZmlsZQ%3D%3D?line=46'>47</a>\u001b[0m     \u001b[39m# Append the highest fitness population member of each generation for\u001b[39;00m\n\u001b[0;32m     <a href='vscode-notebook-cell:/e%3A/RESEARCH/generate-music/Sound-Genes/root/Music%20Evolution%20V2.ipynb#X24sZmlsZQ%3D%3D?line=47'>48</a>\u001b[0m         \u001b[39m# plotting purposes\u001b[39;00m\n\u001b[0;32m     <a href='vscode-notebook-cell:/e%3A/RESEARCH/generate-music/Sound-Genes/root/Music%20Evolution%20V2.ipynb#X24sZmlsZQ%3D%3D?line=48'>49</a>\u001b[0m     \u001b[39m# Will be eliminated from the final code\u001b[39;00m\n\u001b[0;32m     <a href='vscode-notebook-cell:/e%3A/RESEARCH/generate-music/Sound-Genes/root/Music%20Evolution%20V2.ipynb#X24sZmlsZQ%3D%3D?line=50'>51</a>\u001b[0m \u001b[39mreturn\u001b[39;00m Pop\n",
      "\u001b[1;32me:\\RESEARCH\\generate-music\\Sound-Genes\\root\\Music Evolution V2.ipynb Cell 19\u001b[0m line \u001b[0;36m1\n\u001b[0;32m     <a href='vscode-notebook-cell:/e%3A/RESEARCH/generate-music/Sound-Genes/root/Music%20Evolution%20V2.ipynb#X24sZmlsZQ%3D%3D?line=13'>14</a>\u001b[0m \u001b[39m# This is the chromosome with the highest fitness\u001b[39;00m\n\u001b[0;32m     <a href='vscode-notebook-cell:/e%3A/RESEARCH/generate-music/Sound-Genes/root/Music%20Evolution%20V2.ipynb#X24sZmlsZQ%3D%3D?line=14'>15</a>\u001b[0m \u001b[39m# Initially it is the first chromosome\u001b[39;00m\n\u001b[0;32m     <a href='vscode-notebook-cell:/e%3A/RESEARCH/generate-music/Sound-Genes/root/Music%20Evolution%20V2.ipynb#X24sZmlsZQ%3D%3D?line=16'>17</a>\u001b[0m \u001b[39mfor\u001b[39;00m i \u001b[39min\u001b[39;00m \u001b[39mrange\u001b[39m(Ps):\n\u001b[1;32m---> <a href='vscode-notebook-cell:/e%3A/RESEARCH/generate-music/Sound-Genes/root/Music%20Evolution%20V2.ipynb#X24sZmlsZQ%3D%3D?line=17'>18</a>\u001b[0m     fitnessValue \u001b[39m=\u001b[39m fitnessFunction(Pop[i], i, rasaNumber\u001b[39m=\u001b[39;49m\u001b[39m2\u001b[39;49m)\n\u001b[0;32m     <a href='vscode-notebook-cell:/e%3A/RESEARCH/generate-music/Sound-Genes/root/Music%20Evolution%20V2.ipynb#X24sZmlsZQ%3D%3D?line=18'>19</a>\u001b[0m     \u001b[39mif\u001b[39;00m fitnessValue\u001b[39m<\u001b[39mBf:\n\u001b[0;32m     <a href='vscode-notebook-cell:/e%3A/RESEARCH/generate-music/Sound-Genes/root/Music%20Evolution%20V2.ipynb#X24sZmlsZQ%3D%3D?line=19'>20</a>\u001b[0m         Bf\u001b[39m=\u001b[39mfitnessValue\n",
      "\u001b[1;32me:\\RESEARCH\\generate-music\\Sound-Genes\\root\\Music Evolution V2.ipynb Cell 19\u001b[0m line \u001b[0;36m2\n\u001b[0;32m     <a href='vscode-notebook-cell:/e%3A/RESEARCH/generate-music/Sound-Genes/root/Music%20Evolution%20V2.ipynb#X24sZmlsZQ%3D%3D?line=18'>19</a>\u001b[0m \u001b[39mdef\u001b[39;00m \u001b[39mfitnessFunction\u001b[39m(chromosome, index, rasaNumber\u001b[39m=\u001b[39m\u001b[39m1\u001b[39m):\n\u001b[0;32m     <a href='vscode-notebook-cell:/e%3A/RESEARCH/generate-music/Sound-Genes/root/Music%20Evolution%20V2.ipynb#X24sZmlsZQ%3D%3D?line=19'>20</a>\u001b[0m     rasas \u001b[39m=\u001b[39m [\u001b[39m'\u001b[39m\u001b[39mKaruna\u001b[39m\u001b[39m'\u001b[39m, \u001b[39m'\u001b[39m\u001b[39mShanta\u001b[39m\u001b[39m'\u001b[39m, \u001b[39m'\u001b[39m\u001b[39mShringar\u001b[39m\u001b[39m'\u001b[39m, \u001b[39m'\u001b[39m\u001b[39mVeera\u001b[39m\u001b[39m'\u001b[39m]\n\u001b[1;32m---> <a href='vscode-notebook-cell:/e%3A/RESEARCH/generate-music/Sound-Genes/root/Music%20Evolution%20V2.ipynb#X24sZmlsZQ%3D%3D?line=20'>21</a>\u001b[0m     decode(chromosome, \u001b[39mf\u001b[39;49m\u001b[39m\"\u001b[39;49m\u001b[39mtest_data/\u001b[39;49m\u001b[39m{\u001b[39;49;00mindex\u001b[39m}\u001b[39;49;00m\u001b[39m.wav\u001b[39;49m\u001b[39m\"\u001b[39;49m)\n\u001b[0;32m     <a href='vscode-notebook-cell:/e%3A/RESEARCH/generate-music/Sound-Genes/root/Music%20Evolution%20V2.ipynb#X24sZmlsZQ%3D%3D?line=21'>22</a>\u001b[0m     values \u001b[39m=\u001b[39m \u001b[39mdict\u001b[39m(main(rasaNumber\u001b[39m=\u001b[39mrasaNumber, audioFile\u001b[39m=\u001b[39m\u001b[39mf\u001b[39m\u001b[39m\"\u001b[39m\u001b[39m{\u001b[39;00mindex\u001b[39m}\u001b[39;00m\u001b[39m.wav\u001b[39m\u001b[39m\"\u001b[39m))\n\u001b[0;32m     <a href='vscode-notebook-cell:/e%3A/RESEARCH/generate-music/Sound-Genes/root/Music%20Evolution%20V2.ipynb#X24sZmlsZQ%3D%3D?line=22'>23</a>\u001b[0m     fitnessValue \u001b[39m=\u001b[39m values[\u001b[39m\"\u001b[39m\u001b[39mfitnessValues\u001b[39m\u001b[39m\"\u001b[39m][rasas[rasaNumber\u001b[39m-\u001b[39m\u001b[39m1\u001b[39m]][\u001b[39m\"\u001b[39m\u001b[39mweightedSum\u001b[39m\u001b[39m\"\u001b[39m]\n",
      "File \u001b[1;32me:\\RESEARCH\\generate-music\\Sound-Genes\\root\\chromosome_processor.py:39\u001b[0m, in \u001b[0;36mdecode\u001b[1;34m(chromosome, filename)\u001b[0m\n\u001b[0;32m     35\u001b[0m frequency \u001b[39m=\u001b[39m wave[\u001b[39m2\u001b[39m]\n\u001b[0;32m     36\u001b[0m \u001b[39m# if i == 18:\u001b[39;00m\n\u001b[0;32m     37\u001b[0m \u001b[39m#     if bin_idx == 3:\u001b[39;00m\n\u001b[0;32m     38\u001b[0m \u001b[39m#         amplitude = bin[0][0]\u001b[39;00m\n\u001b[1;32m---> 39\u001b[0m bin_samples \u001b[39m=\u001b[39m generate_bin_samples(amplitude, phase, frequency, frame_duration, frames_per_sec, waves_per_bin)\n\u001b[0;32m     40\u001b[0m segment_start \u001b[39m=\u001b[39m frame_idx \u001b[39m*\u001b[39m \u001b[39mint\u001b[39m(frame_duration \u001b[39m*\u001b[39m frames_per_sec)\n\u001b[0;32m     41\u001b[0m segment_end \u001b[39m=\u001b[39m (frame_idx \u001b[39m+\u001b[39m \u001b[39m1\u001b[39m) \u001b[39m*\u001b[39m \u001b[39mint\u001b[39m(frame_duration \u001b[39m*\u001b[39m frames_per_sec)\n",
      "File \u001b[1;32me:\\RESEARCH\\generate-music\\Sound-Genes\\root\\chromosome_processor.py:54\u001b[0m, in \u001b[0;36mgenerate_bin_samples\u001b[1;34m(amplitude, phase, frequency, duration, frames_per_sec, waves_per_bin)\u001b[0m\n\u001b[0;32m     52\u001b[0m t \u001b[39m=\u001b[39m np\u001b[39m.\u001b[39mlinspace(\u001b[39m0\u001b[39m, duration, \u001b[39mint\u001b[39m(duration \u001b[39m*\u001b[39m frames_per_sec), endpoint\u001b[39m=\u001b[39m\u001b[39mFalse\u001b[39;00m)\n\u001b[0;32m     53\u001b[0m frequency \u001b[39m=\u001b[39m np\u001b[39m.\u001b[39mfull_like(t, frequency)  \u001b[39m# Reshape frequency to match t\u001b[39;00m\n\u001b[1;32m---> 54\u001b[0m waveform \u001b[39m=\u001b[39m amplitude \u001b[39m*\u001b[39m np\u001b[39m.\u001b[39;49msin(\u001b[39m2\u001b[39;49m \u001b[39m*\u001b[39;49m np\u001b[39m.\u001b[39;49mpi \u001b[39m*\u001b[39;49m frequency \u001b[39m*\u001b[39;49m t \u001b[39m+\u001b[39;49m np\u001b[39m.\u001b[39;49mdeg2rad(phase))\n\u001b[0;32m     55\u001b[0m \u001b[39mreturn\u001b[39;00m (waveform \u001b[39m*\u001b[39m \u001b[39m32767\u001b[39m)\u001b[39m.\u001b[39mastype(np\u001b[39m.\u001b[39mint16)\n",
      "\u001b[1;31mKeyboardInterrupt\u001b[0m: "
     ]
    }
   ],
   "source": [
    "Pop= popinit(Ps)\n",
    "# Initiate and store the Population Dictionary\n",
    "\n",
    "Pop= geniter(Ps, Gs, Pop)\n",
    "# Iterate the population through Evolution and store the final state\n",
    "\n",
    "print(fittest(Ps, Pop)[1])\n",
    "# Print the error between the Test chromosome and the Final chromosome\n",
    "\n",
    "plt.plot(range(0, Gs), fitness)\n",
    "# Plot the Fitness Vs Generation Curve for Evaluation"
   ]
  },
  {
   "cell_type": "code",
   "execution_count": null,
   "metadata": {},
   "outputs": [],
   "source": [
    "L=fittest(Ps,Pop)[0]\n",
    "\n",
    "Jk=chrm()\n",
    "\n",
    "for j in range(Cl):\n",
    "        for k in range(Gl):\n",
    "            for l in range(2):\n",
    "                Jk[j][k][l]= np.abs(L[j][k][l]-T[j][k][l])\n",
    "\n",
    "Jk"
   ]
  },
  {
   "cell_type": "markdown",
   "metadata": {},
   "source": [
    "Test cases:\n",
    "\n",
    "Ps,Gs,Cl,Gl -> E,Time\n",
    "\n",
    "K=0.7\n",
    "F=(-2,2)\n",
    "\n",
    "a) 100,100,3,2 -> 1.7, 1.5\n",
    "\n",
    "b) 100,100,30,20 -> 46000, 1:20\n",
    "\n",
    "c) 20,100,30,20 -> 49000, 17\n",
    "\n",
    "d) 20,200,30,20 -> 44000, 31\n",
    "\n",
    "e) 20,500,30,20 -> 38000, 1:15\n",
    "\n",
    "f) 40,200,30,20 -> 42000, 1:03\n",
    "\n",
    "g) 10,200,30,20 -> 49000, 16\n",
    "\n",
    "h) 10,1000,30,20 -> 42000, 1:11\n",
    "\n",
    "i) 20,1000,30,20 -> 34000, 2:29\n",
    "\n",
    "\n",
    "j) 10,10,300,50 -> 1555K, 23\n",
    "\n",
    "k) 20,10,300,50 -> 1472K, 48\n",
    "\n",
    "k) 20,50,300,50 -> 1441K, 4:00\n",
    "\n",
    "l) 30,10,300,50 -> 1511K, 1:12\n",
    "\n",
    "K=0.8\n",
    "F=(-1,1)\n",
    "\n",
    "a) 10,10,300,50 -> 1522K, 38\n",
    "\n",
    "b) 20,50,300,50 -> 1476K, 5:41"
   ]
  }
 ],
 "metadata": {
  "kernelspec": {
   "display_name": "Python 3",
   "language": "python",
   "name": "python3"
  },
  "language_info": {
   "codemirror_mode": {
    "name": "ipython",
    "version": 3
   },
   "file_extension": ".py",
   "mimetype": "text/x-python",
   "name": "python",
   "nbconvert_exporter": "python",
   "pygments_lexer": "ipython3",
   "version": "3.11.4"
  },
  "orig_nbformat": 4
 },
 "nbformat": 4,
 "nbformat_minor": 2
}
