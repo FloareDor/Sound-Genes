{
 "cells": [
  {
   "cell_type": "code",
   "execution_count": 42,
   "metadata": {},
   "outputs": [],
   "source": [
    "import os\n",
    "import matplotlib.pyplot as plt\n",
    "import librosa\n",
    "import numpy as np\n",
    "import soundfile as sf\n",
    "import random\n",
    "from plotting import *"
   ]
  },
  {
   "cell_type": "code",
   "execution_count": 43,
   "metadata": {},
   "outputs": [],
   "source": [
    "def resample_audio(audio_path, target_sr=32000, offset=0, duration=5):\n",
    "    y, sr = librosa.load(audio_path, sr=target_sr, offset=offset, duration=duration)\n",
    "    return y, sr\n",
    "\n",
    "BASE_FOLDER = 'E:\\\\RESEARCH\\\\UFL Sound Genes\\\\sampling-rate\\\\dataset'\n",
    "sample_song = 'Shringar\\\\S_3.wav'"
   ]
  },
  {
   "cell_type": "code",
   "execution_count": 55,
   "metadata": {},
   "outputs": [],
   "source": [
    "song, sr = resample_audio(os.path.join(BASE_FOLDER, sample_song), target_sr=16000)\n",
    "\n",
    "X = np.fft.fft(song)\n",
    "magnitude_spectrum = np.abs(X)\n",
    "phase_values = np.angle(X)"
   ]
  },
  {
   "cell_type": "code",
   "execution_count": 45,
   "metadata": {},
   "outputs": [
    {
     "name": "stdout",
     "output_type": "stream",
     "text": [
      "80000\n"
     ]
    }
   ],
   "source": [
    "X_reconstructed = magnitude_spectrum * np.exp(1j * phase_values)\n",
    "inverse_X = np.fft.ifft(X_reconstructed)\n",
    "output_path = f\"og-ifft.wav\"\n",
    "\n",
    "print(len(magnitude_spectrum))\n",
    "\n",
    "sf.write(output_path, inverse_X.real, sr, 'PCM_24')"
   ]
  },
  {
   "cell_type": "code",
   "execution_count": 56,
   "metadata": {},
   "outputs": [
    {
     "name": "stdout",
     "output_type": "stream",
     "text": [
      "40001\n",
      "40000\n",
      "80000 80000\n"
     ]
    }
   ],
   "source": [
    "n = len(magnitude_spectrum)\n",
    "magnitude_spectrum = magnitude_spectrum[0:40001]\n",
    "print(len(magnitude_spectrum))\n",
    "half_n = n // 2\n",
    "\n",
    "print(half_n)\n",
    "\n",
    "magnitude_mirrored = np.concatenate((magnitude_spectrum[0:half_n+1], magnitude_spectrum[half_n-1:0:-1]))\n",
    "\n",
    "phase_mirrored = np.concatenate((phase_values[0:half_n+1], -phase_values[half_n-1:0:-1]))\n",
    "\n",
    "print(len(magnitude_mirrored), len(phase_mirrored))\n",
    "\n",
    "X_reconstructed = magnitude_mirrored * np.exp(1j * phase_mirrored)\n",
    "inverse_X = np.fft.ifft(X_reconstructed)\n",
    "\n",
    "output_path = f\"mirror-ifft.wav\"\n",
    "sf.write(output_path, inverse_X.real, sr, 'PCM_24')"
   ]
  },
  {
   "cell_type": "code",
   "execution_count": null,
   "metadata": {},
   "outputs": [],
   "source": []
  }
 ],
 "metadata": {
  "kernelspec": {
   "display_name": "Python 3",
   "language": "python",
   "name": "python3"
  },
  "language_info": {
   "codemirror_mode": {
    "name": "ipython",
    "version": 3
   },
   "file_extension": ".py",
   "mimetype": "text/x-python",
   "name": "python",
   "nbconvert_exporter": "python",
   "pygments_lexer": "ipython3",
   "version": "3.12.2"
  }
 },
 "nbformat": 4,
 "nbformat_minor": 2
}
